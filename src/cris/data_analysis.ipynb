{
 "cells": [
  {
   "cell_type": "code",
   "execution_count": 1,
   "id": "e44d9510",
   "metadata": {},
   "outputs": [],
   "source": [
    "import statsmodels.formula.api as smf\n",
    "import pandas as pd\n",
    "import numpy as np\n",
    "\n",
    "from scipy import stats"
   ]
  },
  {
   "cell_type": "code",
   "execution_count": 2,
   "id": "138c9d35",
   "metadata": {},
   "outputs": [],
   "source": [
    "data = pd.read_csv('data.csv', delimiter=\";\")"
   ]
  },
  {
   "cell_type": "markdown",
   "id": "017dc46f",
   "metadata": {},
   "source": [
    "### Fisher tests"
   ]
  },
  {
   "cell_type": "code",
   "execution_count": 4,
   "id": "c2a93c8c",
   "metadata": {},
   "outputs": [
    {
     "data": {
      "text/plain": [
       "SignificanceResult(statistic=3.393939393939394, pvalue=0.004966884341180539)"
      ]
     },
     "execution_count": 4,
     "metadata": {},
     "output_type": "execute_result"
    }
   ],
   "source": [
    "ene_positivo = [[16, 9], [55, 105]]\n",
    "stats.fisher_exact(ene_positivo, alternative='greater')"
   ]
  },
  {
   "cell_type": "code",
   "execution_count": 5,
   "id": "78e10ea4",
   "metadata": {},
   "outputs": [
    {
     "data": {
      "text/plain": [
       "SignificanceResult(statistic=5.842105263157895, pvalue=6.09836208638202e-08)"
      ]
     },
     "execution_count": 5,
     "metadata": {},
     "output_type": "execute_result"
    }
   ],
   "source": [
    "ipn = [[37, 19], [40, 120]]\n",
    "stats.fisher_exact(ipn, alternative='greater')"
   ]
  },
  {
   "cell_type": "code",
   "execution_count": 16,
   "id": "2e8de310",
   "metadata": {},
   "outputs": [
    {
     "data": {
      "text/plain": [
       "(3.167391304347826, 0.9999811657772959)"
      ]
     },
     "execution_count": 16,
     "metadata": {},
     "output_type": "execute_result"
    }
   ],
   "source": [
    "radio_terapia = [[47, 46], [30, 93]]\n",
    "stats.fisher_exact(radio_terapia, alternative='less')"
   ]
  },
  {
   "cell_type": "code",
   "execution_count": 36,
   "id": "bef2a013",
   "metadata": {},
   "outputs": [
    {
     "data": {
      "text/plain": [
       "(0.37233527131782945, 0.000516801919354114)"
      ]
     },
     "execution_count": 36,
     "metadata": {},
     "output_type": "execute_result"
    }
   ],
   "source": [
    "t = [[29, 86], [48, 53]]\n",
    "stats.fisher_exact(t, alternative='less')"
   ]
  },
  {
   "cell_type": "code",
   "execution_count": 77,
   "id": "c085bfda",
   "metadata": {},
   "outputs": [
    {
     "data": {
      "text/plain": [
       "(0.3996515679442509, 0.0028491848634324226)"
      ]
     },
     "execution_count": 77,
     "metadata": {},
     "output_type": "execute_result"
    }
   ],
   "source": [
    "n = [[37, 82], [35, 31]]\n",
    "stats.fisher_exact(n, alternative='less')"
   ]
  },
  {
   "cell_type": "markdown",
   "id": "6309b50d",
   "metadata": {},
   "source": [
    "### Logistic regression"
   ]
  },
  {
   "cell_type": "code",
   "execution_count": 3,
   "id": "3872fb14",
   "metadata": {},
   "outputs": [],
   "source": [
    "data = data.astype(int)"
   ]
  },
  {
   "cell_type": "code",
   "execution_count": 7,
   "id": "eef8a10a",
   "metadata": {},
   "outputs": [],
   "source": [
    "mask = data['Margenes'] == 2\n",
    "data['Margenes'][mask] = 1"
   ]
  },
  {
   "cell_type": "code",
   "execution_count": 8,
   "id": "a56cbc27",
   "metadata": {},
   "outputs": [
    {
     "name": "stdout",
     "output_type": "stream",
     "text": [
      "Optimization terminated successfully.\n",
      "         Current function value: 0.507505\n",
      "         Iterations 6\n"
     ]
    },
    {
     "data": {
      "text/html": [
       "<table class=\"simpletable\">\n",
       "<caption>Logit Regression Results</caption>\n",
       "<tr>\n",
       "  <th>Dep. Variable:</th>       <td>RECIDIVA</td>     <th>  No. Observations:  </th>  <td>   215</td>  \n",
       "</tr>\n",
       "<tr>\n",
       "  <th>Model:</th>                 <td>Logit</td>      <th>  Df Residuals:      </th>  <td>   205</td>  \n",
       "</tr>\n",
       "<tr>\n",
       "  <th>Method:</th>                 <td>MLE</td>       <th>  Df Model:          </th>  <td>     9</td>  \n",
       "</tr>\n",
       "<tr>\n",
       "  <th>Date:</th>            <td>Mon, 22 May 2023</td> <th>  Pseudo R-squ.:     </th>  <td>0.2220</td>  \n",
       "</tr>\n",
       "<tr>\n",
       "  <th>Time:</th>                <td>18:53:53</td>     <th>  Log-Likelihood:    </th> <td> -109.11</td> \n",
       "</tr>\n",
       "<tr>\n",
       "  <th>converged:</th>             <td>True</td>       <th>  LL-Null:           </th> <td> -140.25</td> \n",
       "</tr>\n",
       "<tr>\n",
       "  <th>Covariance Type:</th>     <td>nonrobust</td>    <th>  LLR p-value:       </th> <td>4.866e-10</td>\n",
       "</tr>\n",
       "</table>\n",
       "<table class=\"simpletable\">\n",
       "<tr>\n",
       "         <td></td>           <th>coef</th>     <th>std err</th>      <th>z</th>      <th>P>|z|</th>  <th>[0.025</th>    <th>0.975]</th>  \n",
       "</tr>\n",
       "<tr>\n",
       "  <th>Intercept</th>      <td>   -1.7671</td> <td>    0.592</td> <td>   -2.987</td> <td> 0.003</td> <td>   -2.927</td> <td>   -0.608</td>\n",
       "</tr>\n",
       "<tr>\n",
       "  <th>Margenes</th>       <td>    1.8871</td> <td>    0.391</td> <td>    4.829</td> <td> 0.000</td> <td>    1.121</td> <td>    2.653</td>\n",
       "</tr>\n",
       "<tr>\n",
       "  <th>DIFERENCIACION</th> <td>    0.8533</td> <td>    0.292</td> <td>    2.927</td> <td> 0.003</td> <td>    0.282</td> <td>    1.425</td>\n",
       "</tr>\n",
       "<tr>\n",
       "  <th>LOCALIZACION</th>   <td>    0.0642</td> <td>    0.095</td> <td>    0.678</td> <td> 0.498</td> <td>   -0.121</td> <td>    0.250</td>\n",
       "</tr>\n",
       "<tr>\n",
       "  <th>OH</th>             <td>   -0.6383</td> <td>    0.473</td> <td>   -1.350</td> <td> 0.177</td> <td>   -1.565</td> <td>    0.289</td>\n",
       "</tr>\n",
       "<tr>\n",
       "  <th>TABACO</th>         <td>    0.0460</td> <td>    0.389</td> <td>    0.118</td> <td> 0.906</td> <td>   -0.717</td> <td>    0.809</td>\n",
       "</tr>\n",
       "<tr>\n",
       "  <th>T</th>              <td>   -0.4977</td> <td>    0.301</td> <td>   -1.655</td> <td> 0.098</td> <td>   -1.087</td> <td>    0.092</td>\n",
       "</tr>\n",
       "<tr>\n",
       "  <th>DOI</th>            <td>    0.3196</td> <td>    0.283</td> <td>    1.130</td> <td> 0.258</td> <td>   -0.235</td> <td>    0.874</td>\n",
       "</tr>\n",
       "<tr>\n",
       "  <th>N</th>              <td>    0.2307</td> <td>    0.165</td> <td>    1.396</td> <td> 0.163</td> <td>   -0.093</td> <td>    0.555</td>\n",
       "</tr>\n",
       "<tr>\n",
       "  <th>RTpost</th>         <td>    0.5168</td> <td>    0.439</td> <td>    1.178</td> <td> 0.239</td> <td>   -0.343</td> <td>    1.376</td>\n",
       "</tr>\n",
       "</table>"
      ],
      "text/latex": [
       "\\begin{center}\n",
       "\\begin{tabular}{lclc}\n",
       "\\toprule\n",
       "\\textbf{Dep. Variable:}   &     RECIDIVA     & \\textbf{  No. Observations:  } &      215    \\\\\n",
       "\\textbf{Model:}           &      Logit       & \\textbf{  Df Residuals:      } &      205    \\\\\n",
       "\\textbf{Method:}          &       MLE        & \\textbf{  Df Model:          } &        9    \\\\\n",
       "\\textbf{Date:}            & Mon, 22 May 2023 & \\textbf{  Pseudo R-squ.:     } &   0.2220    \\\\\n",
       "\\textbf{Time:}            &     18:53:53     & \\textbf{  Log-Likelihood:    } &   -109.11   \\\\\n",
       "\\textbf{converged:}       &       True       & \\textbf{  LL-Null:           } &   -140.25   \\\\\n",
       "\\textbf{Covariance Type:} &    nonrobust     & \\textbf{  LLR p-value:       } & 4.866e-10   \\\\\n",
       "\\bottomrule\n",
       "\\end{tabular}\n",
       "\\begin{tabular}{lcccccc}\n",
       "                        & \\textbf{coef} & \\textbf{std err} & \\textbf{z} & \\textbf{P$> |$z$|$} & \\textbf{[0.025} & \\textbf{0.975]}  \\\\\n",
       "\\midrule\n",
       "\\textbf{Intercept}      &      -1.7671  &        0.592     &    -2.987  &         0.003        &       -2.927    &       -0.608     \\\\\n",
       "\\textbf{Margenes}       &       1.8871  &        0.391     &     4.829  &         0.000        &        1.121    &        2.653     \\\\\n",
       "\\textbf{DIFERENCIACION} &       0.8533  &        0.292     &     2.927  &         0.003        &        0.282    &        1.425     \\\\\n",
       "\\textbf{LOCALIZACION}   &       0.0642  &        0.095     &     0.678  &         0.498        &       -0.121    &        0.250     \\\\\n",
       "\\textbf{OH}             &      -0.6383  &        0.473     &    -1.350  &         0.177        &       -1.565    &        0.289     \\\\\n",
       "\\textbf{TABACO}         &       0.0460  &        0.389     &     0.118  &         0.906        &       -0.717    &        0.809     \\\\\n",
       "\\textbf{T}              &      -0.4977  &        0.301     &    -1.655  &         0.098        &       -1.087    &        0.092     \\\\\n",
       "\\textbf{DOI}            &       0.3196  &        0.283     &     1.130  &         0.258        &       -0.235    &        0.874     \\\\\n",
       "\\textbf{N}              &       0.2307  &        0.165     &     1.396  &         0.163        &       -0.093    &        0.555     \\\\\n",
       "\\textbf{RTpost}         &       0.5168  &        0.439     &     1.178  &         0.239        &       -0.343    &        1.376     \\\\\n",
       "\\bottomrule\n",
       "\\end{tabular}\n",
       "%\\caption{Logit Regression Results}\n",
       "\\end{center}"
      ],
      "text/plain": [
       "<class 'statsmodels.iolib.summary.Summary'>\n",
       "\"\"\"\n",
       "                           Logit Regression Results                           \n",
       "==============================================================================\n",
       "Dep. Variable:               RECIDIVA   No. Observations:                  215\n",
       "Model:                          Logit   Df Residuals:                      205\n",
       "Method:                           MLE   Df Model:                            9\n",
       "Date:                Mon, 22 May 2023   Pseudo R-squ.:                  0.2220\n",
       "Time:                        18:53:53   Log-Likelihood:                -109.11\n",
       "converged:                       True   LL-Null:                       -140.25\n",
       "Covariance Type:            nonrobust   LLR p-value:                 4.866e-10\n",
       "==================================================================================\n",
       "                     coef    std err          z      P>|z|      [0.025      0.975]\n",
       "----------------------------------------------------------------------------------\n",
       "Intercept         -1.7671      0.592     -2.987      0.003      -2.927      -0.608\n",
       "Margenes           1.8871      0.391      4.829      0.000       1.121       2.653\n",
       "DIFERENCIACION     0.8533      0.292      2.927      0.003       0.282       1.425\n",
       "LOCALIZACION       0.0642      0.095      0.678      0.498      -0.121       0.250\n",
       "OH                -0.6383      0.473     -1.350      0.177      -1.565       0.289\n",
       "TABACO             0.0460      0.389      0.118      0.906      -0.717       0.809\n",
       "T                 -0.4977      0.301     -1.655      0.098      -1.087       0.092\n",
       "DOI                0.3196      0.283      1.130      0.258      -0.235       0.874\n",
       "N                  0.2307      0.165      1.396      0.163      -0.093       0.555\n",
       "RTpost             0.5168      0.439      1.178      0.239      -0.343       1.376\n",
       "==================================================================================\n",
       "\"\"\""
      ]
     },
     "execution_count": 8,
     "metadata": {},
     "output_type": "execute_result"
    }
   ],
   "source": [
    "crismodel = smf.logit(formula = 'RECIDIVA ~ Margenes + DIFERENCIACION + LOCALIZACION + OH + TABACO + T + DOI + N + RTpost', data = data).fit()\n",
    "crismodel.summary()"
   ]
  },
  {
   "cell_type": "code",
   "execution_count": 9,
   "id": "7e5c29bd",
   "metadata": {},
   "outputs": [
    {
     "data": {
      "text/plain": [
       "1.376577023385756"
      ]
     },
     "execution_count": 9,
     "metadata": {},
     "output_type": "execute_result"
    }
   ],
   "source": [
    "np.exp(0.3196)"
   ]
  },
  {
   "cell_type": "code",
   "execution_count": 25,
   "id": "c86318f1",
   "metadata": {},
   "outputs": [
    {
     "name": "stdout",
     "output_type": "stream",
     "text": [
      "Optimization terminated successfully.\n",
      "         Current function value: 0.612828\n",
      "         Iterations 5\n",
      "Optimization terminated successfully.\n",
      "         Current function value: 0.651654\n",
      "         Iterations 4\n",
      "Optimization terminated successfully.\n",
      "         Current function value: 0.650421\n",
      "         Iterations 4\n",
      "Optimization terminated successfully.\n",
      "         Current function value: 0.651490\n",
      "         Iterations 5\n",
      "Optimization terminated successfully.\n",
      "         Current function value: 0.652284\n",
      "         Iterations 4\n",
      "Optimization terminated successfully.\n",
      "         Current function value: 0.621117\n",
      "         Iterations 5\n",
      "Optimization terminated successfully.\n",
      "         Current function value: 0.610713\n",
      "         Iterations 5\n",
      "Optimization terminated successfully.\n",
      "         Current function value: 0.613780\n",
      "         Iterations 5\n",
      "Optimization terminated successfully.\n",
      "         Current function value: 0.583983\n",
      "         Iterations 5\n",
      "Optimization terminated successfully.\n",
      "         Current function value: 0.562788\n",
      "         Iterations 5\n",
      "Optimization terminated successfully.\n",
      "         Current function value: 0.610798\n",
      "         Iterations 5\n"
     ]
    }
   ],
   "source": [
    "modelos = {}\n",
    "for col in data.columns:\n",
    "    if col != 'RECIDIVA':\n",
    "        modelos[col] = smf.logit(formula = f'RECIDIVA ~ {col}', data = data).fit()"
   ]
  },
  {
   "cell_type": "code",
   "execution_count": 50,
   "id": "a546b89d",
   "metadata": {
    "scrolled": true
   },
   "outputs": [
    {
     "name": "stdout",
     "output_type": "stream",
     "text": [
      "-------------DIFERENCIACION---------------------\n",
      "                           Logit Regression Results                           \n",
      "==============================================================================\n",
      "Dep. Variable:               RECIDIVA   No. Observations:                  215\n",
      "Model:                          Logit   Df Residuals:                      213\n",
      "Method:                           MLE   Df Model:                            1\n",
      "Date:                Tue, 15 Nov 2022   Pseudo R-squ.:                 0.06057\n",
      "Time:                        20:06:15   Log-Likelihood:                -131.76\n",
      "converged:                       True   LL-Null:                       -140.25\n",
      "Covariance Type:            nonrobust   LLR p-value:                 3.757e-05\n",
      "==================================================================================\n",
      "                     coef    std err          z      P>|z|      [0.025      0.975]\n",
      "----------------------------------------------------------------------------------\n",
      "Intercept         -1.4538      0.276     -5.269      0.000      -1.995      -0.913\n",
      "DIFERENCIACION     0.9391      0.239      3.924      0.000       0.470       1.408\n",
      "==================================================================================\n",
      "-----------------------------------------\n",
      "1    0.374094\n",
      "0    0.189416\n",
      "2    0.604541\n",
      "dtype: float64\n",
      "-----------------------------------------\n",
      "-------------Sexo---------------------\n",
      "                           Logit Regression Results                           \n",
      "==============================================================================\n",
      "Dep. Variable:               RECIDIVA   No. Observations:                  215\n",
      "Model:                          Logit   Df Residuals:                      213\n",
      "Method:                           MLE   Df Model:                            1\n",
      "Date:                Tue, 15 Nov 2022   Pseudo R-squ.:                0.001051\n",
      "Time:                        20:06:15   Log-Likelihood:                -140.11\n",
      "converged:                       True   LL-Null:                       -140.25\n",
      "Covariance Type:            nonrobust   LLR p-value:                    0.5871\n",
      "==============================================================================\n",
      "                 coef    std err          z      P>|z|      [0.025      0.975]\n",
      "------------------------------------------------------------------------------\n",
      "Intercept     -0.6549      0.195     -3.360      0.001      -1.037      -0.273\n",
      "Sexo           0.1550      0.285      0.543      0.587      -0.404       0.714\n",
      "==============================================================================\n",
      "-----------------------------------------\n",
      "0    0.341880\n",
      "1    0.377551\n",
      "dtype: float64\n",
      "-----------------------------------------\n",
      "-------------LOCALIZACION---------------------\n",
      "                           Logit Regression Results                           \n",
      "==============================================================================\n",
      "Dep. Variable:               RECIDIVA   No. Observations:                  215\n",
      "Model:                          Logit   Df Residuals:                      213\n",
      "Method:                           MLE   Df Model:                            1\n",
      "Date:                Tue, 15 Nov 2022   Pseudo R-squ.:                0.002943\n",
      "Time:                        20:06:15   Log-Likelihood:                -139.84\n",
      "converged:                       True   LL-Null:                       -140.25\n",
      "Covariance Type:            nonrobust   LLR p-value:                    0.3636\n",
      "================================================================================\n",
      "                   coef    std err          z      P>|z|      [0.025      0.975]\n",
      "--------------------------------------------------------------------------------\n",
      "Intercept       -0.7034      0.196     -3.593      0.000      -1.087      -0.320\n",
      "LOCALIZACION     0.0691      0.076      0.910      0.363      -0.080       0.218\n",
      "================================================================================\n",
      "-----------------------------------------\n",
      "3    0.378470\n",
      "1    0.346547\n",
      "4    0.394855\n",
      "6    0.428311\n",
      "0    0.331069\n",
      "2    0.362357\n",
      "5    0.411481\n",
      "dtype: float64\n",
      "-----------------------------------------\n",
      "-------------OH---------------------\n",
      "                           Logit Regression Results                           \n",
      "==============================================================================\n",
      "Dep. Variable:               RECIDIVA   No. Observations:                  215\n",
      "Model:                          Logit   Df Residuals:                      213\n",
      "Method:                           MLE   Df Model:                            1\n",
      "Date:                Tue, 15 Nov 2022   Pseudo R-squ.:                0.001303\n",
      "Time:                        20:06:15   Log-Likelihood:                -140.07\n",
      "converged:                       True   LL-Null:                       -140.25\n",
      "Covariance Type:            nonrobust   LLR p-value:                    0.5454\n",
      "==============================================================================\n",
      "                 coef    std err          z      P>|z|      [0.025      0.975]\n",
      "------------------------------------------------------------------------------\n",
      "Intercept     -0.5441      0.156     -3.490      0.000      -0.850      -0.239\n",
      "OH            -0.2291      0.382     -0.599      0.549      -0.978       0.520\n",
      "==============================================================================\n",
      "-----------------------------------------\n",
      "0    0.367232\n",
      "1    0.315789\n",
      "dtype: float64\n",
      "-----------------------------------------\n",
      "-------------TABACO---------------------\n",
      "                           Logit Regression Results                           \n",
      "==============================================================================\n",
      "Dep. Variable:               RECIDIVA   No. Observations:                  215\n",
      "Model:                          Logit   Df Residuals:                      213\n",
      "Method:                           MLE   Df Model:                            1\n",
      "Date:                Tue, 15 Nov 2022   Pseudo R-squ.:               8.569e-05\n",
      "Time:                        20:06:15   Log-Likelihood:                -140.24\n",
      "converged:                       True   LL-Null:                       -140.25\n",
      "Covariance Type:            nonrobust   LLR p-value:                    0.8768\n",
      "==============================================================================\n",
      "                 coef    std err          z      P>|z|      [0.025      0.975]\n",
      "------------------------------------------------------------------------------\n",
      "Intercept     -0.6190      0.271     -2.287      0.022      -1.150      -0.089\n",
      "TABACO         0.0493      0.318      0.155      0.877      -0.574       0.673\n",
      "==============================================================================\n",
      "-----------------------------------------\n",
      "1    0.36129\n",
      "0    0.35000\n",
      "dtype: float64\n",
      "-----------------------------------------\n",
      "-------------T---------------------\n",
      "                           Logit Regression Results                           \n",
      "==============================================================================\n",
      "Dep. Variable:               RECIDIVA   No. Observations:                  215\n",
      "Model:                          Logit   Df Residuals:                      213\n",
      "Method:                           MLE   Df Model:                            1\n",
      "Date:                Tue, 15 Nov 2022   Pseudo R-squ.:                 0.04786\n",
      "Time:                        20:06:15   Log-Likelihood:                -133.54\n",
      "converged:                       True   LL-Null:                       -140.25\n",
      "Covariance Type:            nonrobust   LLR p-value:                 0.0002481\n",
      "==============================================================================\n",
      "                 coef    std err          z      P>|z|      [0.025      0.975]\n",
      "------------------------------------------------------------------------------\n",
      "Intercept     -1.7941      0.380     -4.722      0.000      -2.539      -1.049\n",
      "T              0.4742      0.133      3.564      0.000       0.213       0.735\n",
      "==============================================================================\n",
      "-----------------------------------------\n",
      "2    0.300323\n",
      "4    0.525636\n",
      "1    0.210826\n",
      "3    0.408163\n",
      "dtype: float64\n",
      "-----------------------------------------\n",
      "-------------DOI---------------------\n",
      "                           Logit Regression Results                           \n",
      "==============================================================================\n",
      "Dep. Variable:               RECIDIVA   No. Observations:                  215\n",
      "Model:                          Logit   Df Residuals:                      213\n",
      "Method:                           MLE   Df Model:                            1\n",
      "Date:                Tue, 15 Nov 2022   Pseudo R-squ.:                 0.06381\n",
      "Time:                        20:06:15   Log-Likelihood:                -131.30\n",
      "converged:                       True   LL-Null:                       -140.25\n",
      "Covariance Type:            nonrobust   LLR p-value:                 2.328e-05\n",
      "==============================================================================\n",
      "                 coef    std err          z      P>|z|      [0.025      0.975]\n",
      "------------------------------------------------------------------------------\n",
      "Intercept     -1.2363      0.225     -5.499      0.000      -1.677      -0.796\n",
      "DOI            0.5955      0.145      4.100      0.000       0.311       0.880\n",
      "==============================================================================\n",
      "-----------------------------------------\n",
      "0    0.225088\n",
      "3    0.634209\n",
      "1    0.345081\n",
      "2    0.488700\n",
      "dtype: float64\n",
      "-----------------------------------------\n",
      "-------------N---------------------\n",
      "                           Logit Regression Results                           \n",
      "==============================================================================\n",
      "Dep. Variable:               RECIDIVA   No. Observations:                  215\n",
      "Model:                          Logit   Df Residuals:                      213\n",
      "Method:                           MLE   Df Model:                            1\n",
      "Date:                Tue, 15 Nov 2022   Pseudo R-squ.:                 0.05911\n",
      "Time:                        20:06:15   Log-Likelihood:                -131.96\n",
      "converged:                       True   LL-Null:                       -140.25\n",
      "Covariance Type:            nonrobust   LLR p-value:                 4.661e-05\n",
      "==============================================================================\n",
      "                 coef    std err          z      P>|z|      [0.025      0.975]\n",
      "------------------------------------------------------------------------------\n",
      "Intercept     -1.3595      0.250     -5.434      0.000      -1.850      -0.869\n",
      "N              0.5065      0.128      3.942      0.000       0.255       0.758\n",
      "==============================================================================\n",
      "-----------------------------------------\n",
      "1    0.298789\n",
      "3    0.539884\n",
      "2    0.414208\n",
      "0    0.204314\n",
      "4    0.660686\n",
      "dtype: float64\n",
      "-----------------------------------------\n",
      "-------------IPN---------------------\n",
      "                           Logit Regression Results                           \n",
      "==============================================================================\n",
      "Dep. Variable:               RECIDIVA   No. Observations:                  215\n",
      "Model:                          Logit   Df Residuals:                      213\n",
      "Method:                           MLE   Df Model:                            1\n",
      "Date:                Tue, 15 Nov 2022   Pseudo R-squ.:                  0.1048\n",
      "Time:                        20:06:15   Log-Likelihood:                -125.56\n",
      "converged:                       True   LL-Null:                       -140.25\n",
      "Covariance Type:            nonrobust   LLR p-value:                 5.907e-08\n",
      "==============================================================================\n",
      "                 coef    std err          z      P>|z|      [0.025      0.975]\n",
      "------------------------------------------------------------------------------\n",
      "Intercept      0.6665      0.282      2.361      0.018       0.113       1.220\n",
      "IPN           -1.7567      0.336     -5.225      0.000      -2.416      -1.098\n",
      "==============================================================================\n",
      "-----------------------------------------\n",
      "1    0.251572\n",
      "0    0.660714\n",
      "dtype: float64\n",
      "-----------------------------------------\n",
      "-------------Margenes---------------------\n",
      "                           Logit Regression Results                           \n",
      "==============================================================================\n",
      "Dep. Variable:               RECIDIVA   No. Observations:                  215\n",
      "Model:                          Logit   Df Residuals:                      213\n",
      "Method:                           MLE   Df Model:                            1\n",
      "Date:                Tue, 15 Nov 2022   Pseudo R-squ.:                  0.1373\n",
      "Time:                        20:06:15   Log-Likelihood:                -121.00\n",
      "converged:                       True   LL-Null:                       -140.25\n",
      "Covariance Type:            nonrobust   LLR p-value:                 5.455e-10\n",
      "==============================================================================\n",
      "                 coef    std err          z      P>|z|      [0.025      0.975]\n",
      "------------------------------------------------------------------------------\n",
      "Intercept     -1.2535      0.197     -6.352      0.000      -1.640      -0.867\n",
      "Margenes       1.7491      0.306      5.721      0.000       1.150       2.348\n",
      "==============================================================================\n",
      "-----------------------------------------\n",
      "0    0.222090\n",
      "1    0.621423\n",
      "2    0.904194\n",
      "dtype: float64\n",
      "-----------------------------------------\n",
      "-------------RTpost---------------------\n",
      "                           Logit Regression Results                           \n",
      "==============================================================================\n",
      "Dep. Variable:               RECIDIVA   No. Observations:                  215\n",
      "Model:                          Logit   Df Residuals:                      213\n",
      "Method:                           MLE   Df Model:                            1\n",
      "Date:                Tue, 15 Nov 2022   Pseudo R-squ.:                 0.06368\n",
      "Time:                        20:06:15   Log-Likelihood:                -131.32\n",
      "converged:                       True   LL-Null:                       -140.25\n",
      "Covariance Type:            nonrobust   LLR p-value:                 2.374e-05\n",
      "==============================================================================\n",
      "                 coef    std err          z      P>|z|      [0.025      0.975]\n",
      "------------------------------------------------------------------------------\n",
      "Intercept     -1.1653      0.213     -5.479      0.000      -1.582      -0.748\n",
      "RTpost         1.2298      0.297      4.139      0.000       0.647       1.812\n",
      "==============================================================================\n",
      "-----------------------------------------\n",
      "0    0.237705\n",
      "1    0.516129\n",
      "dtype: float64\n",
      "-----------------------------------------\n"
     ]
    }
   ],
   "source": [
    "for col in modelos:\n",
    "    print(f'-------------{col}---------------------')\n",
    "    \n",
    "    print(modelos[col].summary())\n",
    "    \n",
    "    print('-----------------------------------------')\n",
    "    \n",
    "    print(pd.Series(pd.Series(modelos[col].predict()).unique(), index=data[col].unique()))\n",
    "    \n",
    "    print('-----------------------------------------')"
   ]
  },
  {
   "cell_type": "code",
   "execution_count": null,
   "id": "e7ca559b",
   "metadata": {},
   "outputs": [],
   "source": []
  }
 ],
 "metadata": {
  "kernelspec": {
   "display_name": "Python 3 (ipykernel)",
   "language": "python",
   "name": "python3"
  },
  "language_info": {
   "codemirror_mode": {
    "name": "ipython",
    "version": 3
   },
   "file_extension": ".py",
   "mimetype": "text/x-python",
   "name": "python",
   "nbconvert_exporter": "python",
   "pygments_lexer": "ipython3",
   "version": "3.10.11"
  }
 },
 "nbformat": 4,
 "nbformat_minor": 5
}
